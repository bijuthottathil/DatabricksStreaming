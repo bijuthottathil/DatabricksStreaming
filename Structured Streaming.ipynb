{
 "cells": [
  {
   "cell_type": "markdown",
   "metadata": {
    "application/vnd.databricks.v1+cell": {
     "cellMetadata": {},
     "inputWidgets": {},
     "nuid": "b1fd691b-11b4-4014-950b-567fe18bd2cf",
     "showTitle": false,
     "title": ""
    }
   },
   "source": [
    "\n",
    "<div  style=\"text-align: center; line-height: 0; padding-top: 9px;\">\n",
    "  <img src=\"https://raw.githubusercontent.com/derar-alhussein/Databricks-Certified-Data-Engineer-Associate/main/Includes/images/bookstore_schema.png\" alt=\"Databricks Learning\" style=\"width: 600\">\n",
    "</div>"
   ]
  },
  {
   "cell_type": "code",
   "execution_count": 0,
   "metadata": {
    "application/vnd.databricks.v1+cell": {
     "cellMetadata": {
      "byteLimit": 2048000,
      "rowLimit": 10000
     },
     "inputWidgets": {},
     "nuid": "d2947ad6-e501-4c87-959f-756d0266a01f",
     "showTitle": false,
     "title": ""
    }
   },
   "outputs": [],
   "source": [
    "%run ../Includes/Copy-Datasets"
   ]
  },
  {
   "cell_type": "code",
   "execution_count": 0,
   "metadata": {
    "application/vnd.databricks.v1+cell": {
     "cellMetadata": {
      "byteLimit": 2048000,
      "implicitDf": true,
      "rowLimit": 10000
     },
     "inputWidgets": {},
     "nuid": "d004031c-93df-4d05-8963-c35d3f08eae4",
     "showTitle": false,
     "title": ""
    }
   },
   "outputs": [
    {
     "output_type": "display_data",
     "data": {
      "text/html": [
       "<style scoped>\n",
       "  .table-result-container {\n",
       "    max-height: 300px;\n",
       "    overflow: auto;\n",
       "  }\n",
       "  table, th, td {\n",
       "    border: 1px solid black;\n",
       "    border-collapse: collapse;\n",
       "  }\n",
       "  th, td {\n",
       "    padding: 5px;\n",
       "  }\n",
       "  th {\n",
       "    text-align: left;\n",
       "  }\n",
       "</style><div class='table-result-container'><table class='table-result'><thead style='background-color: white'><tr><th>book_id</th><th>title</th><th>author</th><th>category</th><th>price</th></tr></thead><tbody><tr><td>B14</td><td>Data Communications and Networking</td><td>Behrouz A. Forouzan</td><td>Computer Science</td><td>34.0</td></tr><tr><td>B15</td><td>Inside the Java Virtual Machine</td><td>Bill Venners</td><td>Computer Science</td><td>41.0</td></tr><tr><td>B13</td><td>Linux pocket guide</td><td>Daniel J. Barrett</td><td>Computer Science</td><td>26.0</td></tr><tr><td>B10</td><td>Beginning Database Design Solutions</td><td>Rod Stephens</td><td>Computer Science</td><td>44.0</td></tr><tr><td>B11</td><td>Business Intelligence for Dummies</td><td>Swain Scheps</td><td>Computer Science</td><td>38.0</td></tr><tr><td>B12</td><td>Big Data in Practice</td><td>Bernard Marr</td><td>Computer Science</td><td>30.0</td></tr><tr><td>B01</td><td>The Soul of a New Machine</td><td>Tracy Kidder</td><td>Computer Science</td><td>49.0</td></tr><tr><td>B02</td><td>Learning JavaScript Design Patterns</td><td>Addy Osmani</td><td>Computer Science</td><td>28.0</td></tr><tr><td>B03</td><td>Make Your Own Neural Network</td><td>Tariq Rashid</td><td>Computer Science</td><td>35.0</td></tr><tr><td>B07</td><td>The Hundred-Page Machine Learning</td><td>Andriy Burkov</td><td>Computer Science</td><td>33.0</td></tr><tr><td>B08</td><td>Quantum Computing for Everyone</td><td>Chris Bernhardt</td><td>Computer Science</td><td>41.0</td></tr><tr><td>B09</td><td>Advanced Data Structures</td><td>Peter Brass</td><td>Computer Science</td><td>24.0</td></tr><tr><td>B04</td><td>Robot Dynamics and Control</td><td>Mark W. Spong</td><td>Computer Science</td><td>20.0</td></tr><tr><td>B05</td><td>Fluent Python</td><td>Luciano Ramalho</td><td>Computer Science</td><td>47.0</td></tr><tr><td>B06</td><td>Deep Learning with Python</td><td>François Chollet</td><td>Computer Science</td><td>22.0</td></tr></tbody></table></div>"
      ]
     },
     "metadata": {
      "application/vnd.databricks.v1+output": {
       "addedWidgets": {},
       "aggData": [],
       "aggError": "",
       "aggOverflow": false,
       "aggSchema": [],
       "aggSeriesLimitReached": false,
       "aggType": "",
       "arguments": {},
       "columnCustomDisplayInfos": {},
       "data": [
        [
         "B14",
         "Data Communications and Networking",
         "Behrouz A. Forouzan",
         "Computer Science",
         34.0
        ],
        [
         "B15",
         "Inside the Java Virtual Machine",
         "Bill Venners",
         "Computer Science",
         41.0
        ],
        [
         "B13",
         "Linux pocket guide",
         "Daniel J. Barrett",
         "Computer Science",
         26.0
        ],
        [
         "B10",
         "Beginning Database Design Solutions",
         "Rod Stephens",
         "Computer Science",
         44.0
        ],
        [
         "B11",
         "Business Intelligence for Dummies",
         "Swain Scheps",
         "Computer Science",
         38.0
        ],
        [
         "B12",
         "Big Data in Practice",
         "Bernard Marr",
         "Computer Science",
         30.0
        ],
        [
         "B01",
         "The Soul of a New Machine",
         "Tracy Kidder",
         "Computer Science",
         49.0
        ],
        [
         "B02",
         "Learning JavaScript Design Patterns",
         "Addy Osmani",
         "Computer Science",
         28.0
        ],
        [
         "B03",
         "Make Your Own Neural Network",
         "Tariq Rashid",
         "Computer Science",
         35.0
        ],
        [
         "B07",
         "The Hundred-Page Machine Learning",
         "Andriy Burkov",
         "Computer Science",
         33.0
        ],
        [
         "B08",
         "Quantum Computing for Everyone",
         "Chris Bernhardt",
         "Computer Science",
         41.0
        ],
        [
         "B09",
         "Advanced Data Structures",
         "Peter Brass",
         "Computer Science",
         24.0
        ],
        [
         "B04",
         "Robot Dynamics and Control",
         "Mark W. Spong",
         "Computer Science",
         20.0
        ],
        [
         "B05",
         "Fluent Python",
         "Luciano Ramalho",
         "Computer Science",
         47.0
        ],
        [
         "B06",
         "Deep Learning with Python",
         "François Chollet",
         "Computer Science",
         22.0
        ]
       ],
       "datasetInfos": [],
       "dbfsResultPath": null,
       "isJsonSchema": true,
       "metadata": {
        "dataframeName": "_sqldf",
        "executionCount": 9
       },
       "overflow": false,
       "plotOptions": {
        "customPlotOptions": {},
        "displayType": "table",
        "pivotAggregation": null,
        "pivotColumns": null,
        "xColumns": null,
        "yColumns": null
       },
       "removedWidgets": [],
       "schema": [
        {
         "metadata": "{}",
         "name": "book_id",
         "type": "\"string\""
        },
        {
         "metadata": "{}",
         "name": "title",
         "type": "\"string\""
        },
        {
         "metadata": "{}",
         "name": "author",
         "type": "\"string\""
        },
        {
         "metadata": "{}",
         "name": "category",
         "type": "\"string\""
        },
        {
         "metadata": "{}",
         "name": "price",
         "type": "\"double\""
        }
       ],
       "type": "table"
      }
     },
     "output_type": "display_data"
    }
   ],
   "source": [
    "%sql\n",
    "select * from books"
   ]
  },
  {
   "cell_type": "markdown",
   "metadata": {
    "application/vnd.databricks.v1+cell": {
     "cellMetadata": {},
     "inputWidgets": {},
     "nuid": "4ae89c97-8e6d-4c04-986d-d9ee9de5c718",
     "showTitle": false,
     "title": ""
    }
   },
   "source": [
    "\n",
    "## Reading Stream"
   ]
  },
  {
   "cell_type": "code",
   "execution_count": 0,
   "metadata": {
    "application/vnd.databricks.v1+cell": {
     "cellMetadata": {
      "byteLimit": 2048000,
      "rowLimit": 10000
     },
     "inputWidgets": {},
     "nuid": "c28c6a9c-b5cf-46a8-bf1c-8106c2cf0049",
     "showTitle": false,
     "title": ""
    }
   },
   "outputs": [],
   "source": [
    "(spark.readStream\n",
    "      .table(\"books\")\n",
    "      .createOrReplaceTempView(\"books_streaming_tmp_vw\")\n",
    ")"
   ]
  },
  {
   "cell_type": "markdown",
   "metadata": {
    "application/vnd.databricks.v1+cell": {
     "cellMetadata": {},
     "inputWidgets": {},
     "nuid": "52c47c06-5cb7-4605-83df-17f712edea0e",
     "showTitle": false,
     "title": ""
    }
   },
   "source": [
    "\n",
    "## Displaying Streaming Data"
   ]
  },
  {
   "cell_type": "code",
   "execution_count": 0,
   "metadata": {
    "application/vnd.databricks.v1+cell": {
     "cellMetadata": {
      "byteLimit": 2048000,
      "implicitDf": true,
      "rowLimit": 10000
     },
     "inputWidgets": {},
     "nuid": "1327aa28-abb4-4423-b162-c3f1362bc136",
     "showTitle": false,
     "title": ""
    }
   },
   "outputs": [
    {
     "output_type": "display_data",
     "data": {
      "text/html": [
       "<style scoped>\n",
       "  .table-result-container {\n",
       "    max-height: 300px;\n",
       "    overflow: auto;\n",
       "  }\n",
       "  table, th, td {\n",
       "    border: 1px solid black;\n",
       "    border-collapse: collapse;\n",
       "  }\n",
       "  th, td {\n",
       "    padding: 5px;\n",
       "  }\n",
       "  th {\n",
       "    text-align: left;\n",
       "  }\n",
       "</style><div class='table-result-container'><table class='table-result'><thead style='background-color: white'><tr><th>book_id</th><th>title</th><th>author</th><th>category</th><th>price</th></tr></thead><tbody><tr><td>B14</td><td>Data Communications and Networking</td><td>Behrouz A. Forouzan</td><td>Computer Science</td><td>34.0</td></tr><tr><td>B15</td><td>Inside the Java Virtual Machine</td><td>Bill Venners</td><td>Computer Science</td><td>41.0</td></tr><tr><td>B13</td><td>Linux pocket guide</td><td>Daniel J. Barrett</td><td>Computer Science</td><td>26.0</td></tr><tr><td>B10</td><td>Beginning Database Design Solutions</td><td>Rod Stephens</td><td>Computer Science</td><td>44.0</td></tr><tr><td>B11</td><td>Business Intelligence for Dummies</td><td>Swain Scheps</td><td>Computer Science</td><td>38.0</td></tr><tr><td>B12</td><td>Big Data in Practice</td><td>Bernard Marr</td><td>Computer Science</td><td>30.0</td></tr><tr><td>B01</td><td>The Soul of a New Machine</td><td>Tracy Kidder</td><td>Computer Science</td><td>49.0</td></tr><tr><td>B02</td><td>Learning JavaScript Design Patterns</td><td>Addy Osmani</td><td>Computer Science</td><td>28.0</td></tr><tr><td>B03</td><td>Make Your Own Neural Network</td><td>Tariq Rashid</td><td>Computer Science</td><td>35.0</td></tr><tr><td>B07</td><td>The Hundred-Page Machine Learning</td><td>Andriy Burkov</td><td>Computer Science</td><td>33.0</td></tr><tr><td>B08</td><td>Quantum Computing for Everyone</td><td>Chris Bernhardt</td><td>Computer Science</td><td>41.0</td></tr><tr><td>B09</td><td>Advanced Data Structures</td><td>Peter Brass</td><td>Computer Science</td><td>24.0</td></tr><tr><td>B04</td><td>Robot Dynamics and Control</td><td>Mark W. Spong</td><td>Computer Science</td><td>20.0</td></tr><tr><td>B05</td><td>Fluent Python</td><td>Luciano Ramalho</td><td>Computer Science</td><td>47.0</td></tr><tr><td>B06</td><td>Deep Learning with Python</td><td>François Chollet</td><td>Computer Science</td><td>22.0</td></tr></tbody></table></div>"
      ]
     },
     "metadata": {
      "application/vnd.databricks.v1+output": {
       "addedWidgets": {},
       "aggData": [],
       "aggError": "",
       "aggOverflow": false,
       "aggSchema": [],
       "aggSeriesLimitReached": false,
       "aggType": "",
       "arguments": {},
       "columnCustomDisplayInfos": {},
       "data": [
        [
         "B14",
         "Data Communications and Networking",
         "Behrouz A. Forouzan",
         "Computer Science",
         34.0
        ],
        [
         "B15",
         "Inside the Java Virtual Machine",
         "Bill Venners",
         "Computer Science",
         41.0
        ],
        [
         "B13",
         "Linux pocket guide",
         "Daniel J. Barrett",
         "Computer Science",
         26.0
        ],
        [
         "B10",
         "Beginning Database Design Solutions",
         "Rod Stephens",
         "Computer Science",
         44.0
        ],
        [
         "B11",
         "Business Intelligence for Dummies",
         "Swain Scheps",
         "Computer Science",
         38.0
        ],
        [
         "B12",
         "Big Data in Practice",
         "Bernard Marr",
         "Computer Science",
         30.0
        ],
        [
         "B01",
         "The Soul of a New Machine",
         "Tracy Kidder",
         "Computer Science",
         49.0
        ],
        [
         "B02",
         "Learning JavaScript Design Patterns",
         "Addy Osmani",
         "Computer Science",
         28.0
        ],
        [
         "B03",
         "Make Your Own Neural Network",
         "Tariq Rashid",
         "Computer Science",
         35.0
        ],
        [
         "B07",
         "The Hundred-Page Machine Learning",
         "Andriy Burkov",
         "Computer Science",
         33.0
        ],
        [
         "B08",
         "Quantum Computing for Everyone",
         "Chris Bernhardt",
         "Computer Science",
         41.0
        ],
        [
         "B09",
         "Advanced Data Structures",
         "Peter Brass",
         "Computer Science",
         24.0
        ],
        [
         "B04",
         "Robot Dynamics and Control",
         "Mark W. Spong",
         "Computer Science",
         20.0
        ],
        [
         "B05",
         "Fluent Python",
         "Luciano Ramalho",
         "Computer Science",
         47.0
        ],
        [
         "B06",
         "Deep Learning with Python",
         "François Chollet",
         "Computer Science",
         22.0
        ]
       ],
       "datasetInfos": [],
       "dbfsResultPath": null,
       "isJsonSchema": true,
       "metadata": {
        "isDbfsCommandResult": false
       },
       "overflow": false,
       "plotOptions": {
        "customPlotOptions": {},
        "displayType": "table",
        "pivotAggregation": null,
        "pivotColumns": null,
        "xColumns": null,
        "yColumns": null
       },
       "removedWidgets": [],
       "schema": [
        {
         "metadata": "{}",
         "name": "book_id",
         "type": "\"string\""
        },
        {
         "metadata": "{}",
         "name": "title",
         "type": "\"string\""
        },
        {
         "metadata": "{}",
         "name": "author",
         "type": "\"string\""
        },
        {
         "metadata": "{}",
         "name": "category",
         "type": "\"string\""
        },
        {
         "metadata": "{}",
         "name": "price",
         "type": "\"double\""
        }
       ],
       "type": "table"
      }
     },
     "output_type": "display_data"
    }
   ],
   "source": [
    "%sql\n",
    "SELECT * FROM books_streaming_tmp_vw"
   ]
  },
  {
   "cell_type": "code",
   "execution_count": 0,
   "metadata": {
    "application/vnd.databricks.v1+cell": {
     "cellMetadata": {
      "byteLimit": 2048000,
      "implicitDf": true,
      "rowLimit": 10000
     },
     "inputWidgets": {},
     "nuid": "d4b788d0-0075-4e69-a0eb-7107fadac83e",
     "showTitle": false,
     "title": ""
    }
   },
   "outputs": [
    {
     "output_type": "display_data",
     "data": {
      "text/html": [
       "<style scoped>\n",
       "  .table-result-container {\n",
       "    max-height: 300px;\n",
       "    overflow: auto;\n",
       "  }\n",
       "  table, th, td {\n",
       "    border: 1px solid black;\n",
       "    border-collapse: collapse;\n",
       "  }\n",
       "  th, td {\n",
       "    padding: 5px;\n",
       "  }\n",
       "  th {\n",
       "    text-align: left;\n",
       "  }\n",
       "</style><div class='table-result-container'><table class='table-result'><thead style='background-color: white'><tr><th>author</th><th>count(1)</th></tr></thead><tbody><tr><td>Mark W. Spong</td><td>1</td></tr><tr><td>Chris Bernhardt</td><td>1</td></tr><tr><td>Tariq Rashid</td><td>1</td></tr><tr><td>Peter Brass</td><td>1</td></tr><tr><td>Luciano Ramalho</td><td>1</td></tr><tr><td>Addy Osmani</td><td>1</td></tr><tr><td>Andriy Burkov</td><td>1</td></tr><tr><td>Tracy Kidder</td><td>1</td></tr><tr><td>Swain Scheps</td><td>1</td></tr><tr><td>François Chollet</td><td>1</td></tr><tr><td>Daniel J. Barrett</td><td>1</td></tr><tr><td>Rod Stephens</td><td>1</td></tr><tr><td>Behrouz A. Forouzan</td><td>1</td></tr><tr><td>Bernard Marr</td><td>1</td></tr><tr><td>Bill Venners</td><td>1</td></tr></tbody></table></div>"
      ]
     },
     "metadata": {
      "application/vnd.databricks.v1+output": {
       "addedWidgets": {},
       "aggData": [],
       "aggError": "",
       "aggOverflow": false,
       "aggSchema": [],
       "aggSeriesLimitReached": false,
       "aggType": "",
       "arguments": {},
       "columnCustomDisplayInfos": {},
       "data": [
        [
         "Mark W. Spong",
         1
        ],
        [
         "Chris Bernhardt",
         1
        ],
        [
         "Tariq Rashid",
         1
        ],
        [
         "Peter Brass",
         1
        ],
        [
         "Luciano Ramalho",
         1
        ],
        [
         "Addy Osmani",
         1
        ],
        [
         "Andriy Burkov",
         1
        ],
        [
         "Tracy Kidder",
         1
        ],
        [
         "Swain Scheps",
         1
        ],
        [
         "François Chollet",
         1
        ],
        [
         "Daniel J. Barrett",
         1
        ],
        [
         "Rod Stephens",
         1
        ],
        [
         "Behrouz A. Forouzan",
         1
        ],
        [
         "Bernard Marr",
         1
        ],
        [
         "Bill Venners",
         1
        ]
       ],
       "datasetInfos": [],
       "dbfsResultPath": null,
       "isJsonSchema": true,
       "metadata": {
        "isDbfsCommandResult": false
       },
       "overflow": false,
       "plotOptions": {
        "customPlotOptions": {},
        "displayType": "table",
        "pivotAggregation": null,
        "pivotColumns": null,
        "xColumns": null,
        "yColumns": null
       },
       "removedWidgets": [],
       "schema": [
        {
         "metadata": "{}",
         "name": "author",
         "type": "\"string\""
        },
        {
         "metadata": "{\"__autoGeneratedAlias\":\"true\"}",
         "name": "count(1)",
         "type": "\"long\""
        }
       ],
       "type": "table"
      }
     },
     "output_type": "display_data"
    }
   ],
   "source": [
    "%sql\n",
    "select author , count(*) from books_streaming_tmp_vw group by author  having count(*)=1"
   ]
  },
  {
   "cell_type": "markdown",
   "metadata": {
    "application/vnd.databricks.v1+cell": {
     "cellMetadata": {},
     "inputWidgets": {},
     "nuid": "da7b0cc8-ac90-4204-97e7-49ff3dc5db88",
     "showTitle": false,
     "title": ""
    }
   },
   "source": [
    "## Applying Transformations"
   ]
  },
  {
   "cell_type": "code",
   "execution_count": 0,
   "metadata": {
    "application/vnd.databricks.v1+cell": {
     "cellMetadata": {
      "byteLimit": 2048000,
      "implicitDf": true,
      "rowLimit": 10000
     },
     "inputWidgets": {},
     "nuid": "0e3c026c-543b-4b72-a0bd-13ba727beaac",
     "showTitle": false,
     "title": ""
    }
   },
   "outputs": [
    {
     "output_type": "display_data",
     "data": {
      "text/html": [
       "<style scoped>\n",
       "  .table-result-container {\n",
       "    max-height: 300px;\n",
       "    overflow: auto;\n",
       "  }\n",
       "  table, th, td {\n",
       "    border: 1px solid black;\n",
       "    border-collapse: collapse;\n",
       "  }\n",
       "  th, td {\n",
       "    padding: 5px;\n",
       "  }\n",
       "  th {\n",
       "    text-align: left;\n",
       "  }\n",
       "</style><div class='table-result-container'><table class='table-result'><thead style='background-color: white'><tr><th>author</th><th>total_books</th></tr></thead><tbody><tr><td>Mark W. Spong</td><td>1</td></tr><tr><td>Chris Bernhardt</td><td>1</td></tr><tr><td>Tariq Rashid</td><td>1</td></tr><tr><td>Peter Brass</td><td>1</td></tr><tr><td>Luciano Ramalho</td><td>1</td></tr><tr><td>Addy Osmani</td><td>1</td></tr><tr><td>Andriy Burkov</td><td>1</td></tr><tr><td>Tracy Kidder</td><td>1</td></tr><tr><td>Swain Scheps</td><td>1</td></tr><tr><td>François Chollet</td><td>1</td></tr><tr><td>Daniel J. Barrett</td><td>1</td></tr><tr><td>Rod Stephens</td><td>1</td></tr><tr><td>Behrouz A. Forouzan</td><td>1</td></tr><tr><td>Bernard Marr</td><td>1</td></tr><tr><td>Bill Venners</td><td>1</td></tr></tbody></table></div>"
      ]
     },
     "metadata": {
      "application/vnd.databricks.v1+output": {
       "addedWidgets": {},
       "aggData": [],
       "aggError": "",
       "aggOverflow": false,
       "aggSchema": [],
       "aggSeriesLimitReached": false,
       "aggType": "",
       "arguments": {},
       "columnCustomDisplayInfos": {},
       "data": [
        [
         "Mark W. Spong",
         1
        ],
        [
         "Chris Bernhardt",
         1
        ],
        [
         "Tariq Rashid",
         1
        ],
        [
         "Peter Brass",
         1
        ],
        [
         "Luciano Ramalho",
         1
        ],
        [
         "Addy Osmani",
         1
        ],
        [
         "Andriy Burkov",
         1
        ],
        [
         "Tracy Kidder",
         1
        ],
        [
         "Swain Scheps",
         1
        ],
        [
         "François Chollet",
         1
        ],
        [
         "Daniel J. Barrett",
         1
        ],
        [
         "Rod Stephens",
         1
        ],
        [
         "Behrouz A. Forouzan",
         1
        ],
        [
         "Bernard Marr",
         1
        ],
        [
         "Bill Venners",
         1
        ]
       ],
       "datasetInfos": [],
       "dbfsResultPath": null,
       "isJsonSchema": true,
       "metadata": {
        "isDbfsCommandResult": false
       },
       "overflow": false,
       "plotOptions": {
        "customPlotOptions": {},
        "displayType": "table",
        "pivotAggregation": null,
        "pivotColumns": null,
        "xColumns": null,
        "yColumns": null
       },
       "removedWidgets": [],
       "schema": [
        {
         "metadata": "{}",
         "name": "author",
         "type": "\"string\""
        },
        {
         "metadata": "{}",
         "name": "total_books",
         "type": "\"long\""
        }
       ],
       "type": "table"
      }
     },
     "output_type": "display_data"
    }
   ],
   "source": [
    "%sql\n",
    "SELECT author, count(book_id) AS total_books\n",
    "FROM books_streaming_tmp_vw\n",
    "GROUP BY author"
   ]
  },
  {
   "cell_type": "markdown",
   "metadata": {
    "application/vnd.databricks.v1+cell": {
     "cellMetadata": {},
     "inputWidgets": {},
     "nuid": "425c9139-782f-41ef-bfe0-7a74dc0f3f35",
     "showTitle": false,
     "title": ""
    }
   },
   "source": [
    "\n",
    "## Unsupported Operations"
   ]
  },
  {
   "cell_type": "code",
   "execution_count": 0,
   "metadata": {
    "application/vnd.databricks.v1+cell": {
     "cellMetadata": {},
     "inputWidgets": {},
     "nuid": "597ce4ae-221e-4874-9b2e-b002c383ed98",
     "showTitle": false,
     "title": ""
    }
   },
   "outputs": [],
   "source": [
    "%sql\n",
    " SELECT * \n",
    " FROM books_streaming_tmp_vw\n",
    " ORDER BY author"
   ]
  },
  {
   "cell_type": "code",
   "execution_count": 0,
   "metadata": {
    "application/vnd.databricks.v1+cell": {
     "cellMetadata": {
      "byteLimit": 2048000,
      "implicitDf": true,
      "rowLimit": 10000
     },
     "inputWidgets": {},
     "nuid": "758ab863-eea2-49f3-9c92-846bb46b3bb2",
     "showTitle": false,
     "title": ""
    }
   },
   "outputs": [
    {
     "output_type": "display_data",
     "data": {
      "text/html": [
       "<style scoped>\n",
       "  .table-result-container {\n",
       "    max-height: 300px;\n",
       "    overflow: auto;\n",
       "  }\n",
       "  table, th, td {\n",
       "    border: 1px solid black;\n",
       "    border-collapse: collapse;\n",
       "  }\n",
       "  th, td {\n",
       "    padding: 5px;\n",
       "  }\n",
       "  th {\n",
       "    text-align: left;\n",
       "  }\n",
       "</style><div class='table-result-container'><table class='table-result'><thead style='background-color: white'><tr></tr></thead><tbody></tbody></table></div>"
      ]
     },
     "metadata": {
      "application/vnd.databricks.v1+output": {
       "addedWidgets": {},
       "aggData": [],
       "aggError": "",
       "aggOverflow": false,
       "aggSchema": [],
       "aggSeriesLimitReached": false,
       "aggType": "",
       "arguments": {},
       "columnCustomDisplayInfos": {},
       "data": [],
       "datasetInfos": [],
       "dbfsResultPath": null,
       "isJsonSchema": true,
       "metadata": {
        "dataframeName": null
       },
       "overflow": false,
       "plotOptions": {
        "customPlotOptions": {},
        "displayType": "table",
        "pivotAggregation": null,
        "pivotColumns": null,
        "xColumns": null,
        "yColumns": null
       },
       "removedWidgets": [],
       "schema": [],
       "type": "table"
      }
     },
     "output_type": "display_data"
    }
   ],
   "source": [
    "%sql\n",
    "create or replace temp view author_counts_tmp_vwcheck AS ( select author,count(book_id) as total_books from books_streaming_tmp_vw group by author )"
   ]
  },
  {
   "cell_type": "code",
   "execution_count": 0,
   "metadata": {
    "application/vnd.databricks.v1+cell": {
     "cellMetadata": {
      "byteLimit": 2048000,
      "implicitDf": true,
      "rowLimit": 10000
     },
     "inputWidgets": {},
     "nuid": "a33a2aed-fdb8-4495-bb2b-9f4e7bcadc71",
     "showTitle": false,
     "title": ""
    }
   },
   "outputs": [
    {
     "output_type": "display_data",
     "data": {
      "text/html": [
       "<style scoped>\n",
       "  .table-result-container {\n",
       "    max-height: 300px;\n",
       "    overflow: auto;\n",
       "  }\n",
       "  table, th, td {\n",
       "    border: 1px solid black;\n",
       "    border-collapse: collapse;\n",
       "  }\n",
       "  th, td {\n",
       "    padding: 5px;\n",
       "  }\n",
       "  th {\n",
       "    text-align: left;\n",
       "  }\n",
       "</style><div class='table-result-container'><table class='table-result'><thead style='background-color: white'><tr><th>author</th><th>total_books</th></tr></thead><tbody><tr><td>Mark W. Spong</td><td>1</td></tr><tr><td>Chris Bernhardt</td><td>1</td></tr><tr><td>Tariq Rashid</td><td>1</td></tr><tr><td>Peter Brass</td><td>1</td></tr><tr><td>Luciano Ramalho</td><td>1</td></tr><tr><td>Addy Osmani</td><td>1</td></tr><tr><td>Andriy Burkov</td><td>1</td></tr><tr><td>Tracy Kidder</td><td>1</td></tr><tr><td>Swain Scheps</td><td>1</td></tr><tr><td>François Chollet</td><td>1</td></tr><tr><td>Daniel J. Barrett</td><td>1</td></tr><tr><td>Rod Stephens</td><td>1</td></tr><tr><td>Behrouz A. Forouzan</td><td>1</td></tr><tr><td>Bernard Marr</td><td>1</td></tr><tr><td>Bill Venners</td><td>1</td></tr></tbody></table></div>"
      ]
     },
     "metadata": {
      "application/vnd.databricks.v1+output": {
       "addedWidgets": {},
       "aggData": [],
       "aggError": "",
       "aggOverflow": false,
       "aggSchema": [],
       "aggSeriesLimitReached": false,
       "aggType": "",
       "arguments": {},
       "columnCustomDisplayInfos": {},
       "data": [
        [
         "Mark W. Spong",
         1
        ],
        [
         "Chris Bernhardt",
         1
        ],
        [
         "Tariq Rashid",
         1
        ],
        [
         "Peter Brass",
         1
        ],
        [
         "Luciano Ramalho",
         1
        ],
        [
         "Addy Osmani",
         1
        ],
        [
         "Andriy Burkov",
         1
        ],
        [
         "Tracy Kidder",
         1
        ],
        [
         "Swain Scheps",
         1
        ],
        [
         "François Chollet",
         1
        ],
        [
         "Daniel J. Barrett",
         1
        ],
        [
         "Rod Stephens",
         1
        ],
        [
         "Behrouz A. Forouzan",
         1
        ],
        [
         "Bernard Marr",
         1
        ],
        [
         "Bill Venners",
         1
        ]
       ],
       "datasetInfos": [],
       "dbfsResultPath": null,
       "isJsonSchema": true,
       "metadata": {
        "isDbfsCommandResult": false
       },
       "overflow": false,
       "plotOptions": {
        "customPlotOptions": {},
        "displayType": "table",
        "pivotAggregation": null,
        "pivotColumns": null,
        "xColumns": null,
        "yColumns": null
       },
       "removedWidgets": [],
       "schema": [
        {
         "metadata": "{}",
         "name": "author",
         "type": "\"string\""
        },
        {
         "metadata": "{}",
         "name": "total_books",
         "type": "\"long\""
        }
       ],
       "type": "table"
      }
     },
     "output_type": "display_data"
    }
   ],
   "source": [
    "%sql\n",
    "select * from author_counts_tmp_vwcheck"
   ]
  },
  {
   "cell_type": "markdown",
   "metadata": {
    "application/vnd.databricks.v1+cell": {
     "cellMetadata": {},
     "inputWidgets": {},
     "nuid": "ae62837f-05ad-4e84-ae68-7b24c0957993",
     "showTitle": false,
     "title": ""
    }
   },
   "source": [
    "\n",
    "## Persisting Streaming Data"
   ]
  },
  {
   "cell_type": "code",
   "execution_count": 0,
   "metadata": {
    "application/vnd.databricks.v1+cell": {
     "cellMetadata": {
      "byteLimit": 2048000,
      "implicitDf": true,
      "rowLimit": 10000
     },
     "inputWidgets": {},
     "nuid": "3baba69c-bb32-4967-b0b4-b135691dc9b6",
     "showTitle": false,
     "title": ""
    }
   },
   "outputs": [
    {
     "output_type": "display_data",
     "data": {
      "text/html": [
       "<style scoped>\n",
       "  .table-result-container {\n",
       "    max-height: 300px;\n",
       "    overflow: auto;\n",
       "  }\n",
       "  table, th, td {\n",
       "    border: 1px solid black;\n",
       "    border-collapse: collapse;\n",
       "  }\n",
       "  th, td {\n",
       "    padding: 5px;\n",
       "  }\n",
       "  th {\n",
       "    text-align: left;\n",
       "  }\n",
       "</style><div class='table-result-container'><table class='table-result'><thead style='background-color: white'><tr></tr></thead><tbody></tbody></table></div>"
      ]
     },
     "metadata": {
      "application/vnd.databricks.v1+output": {
       "addedWidgets": {},
       "aggData": [],
       "aggError": "",
       "aggOverflow": false,
       "aggSchema": [],
       "aggSeriesLimitReached": false,
       "aggType": "",
       "arguments": {},
       "columnCustomDisplayInfos": {},
       "data": [],
       "datasetInfos": [],
       "dbfsResultPath": null,
       "isJsonSchema": true,
       "metadata": {
        "dataframeName": null
       },
       "overflow": false,
       "plotOptions": {
        "customPlotOptions": {},
        "displayType": "table",
        "pivotAggregation": null,
        "pivotColumns": null,
        "xColumns": null,
        "yColumns": null
       },
       "removedWidgets": [],
       "schema": [],
       "type": "table"
      }
     },
     "output_type": "display_data"
    }
   ],
   "source": [
    "%sql\n",
    "CREATE OR REPLACE TEMP VIEW author_counts_tmp_vw AS (\n",
    "  SELECT author, count(book_id) AS total_books\n",
    "  FROM books_streaming_tmp_vw\n",
    "  GROUP BY author\n",
    ")"
   ]
  },
  {
   "cell_type": "code",
   "execution_count": 0,
   "metadata": {
    "application/vnd.databricks.v1+cell": {
     "cellMetadata": {
      "byteLimit": 2048000,
      "rowLimit": 10000
     },
     "inputWidgets": {},
     "nuid": "f3de5dd3-047a-46b7-8a79-4ebfac0dae3d",
     "showTitle": false,
     "title": ""
    }
   },
   "outputs": [
    {
     "output_type": "execute_result",
     "data": {
      "text/plain": [
       "<pyspark.sql.streaming.query.StreamingQuery at 0x7f68b0a84fd0>"
      ]
     },
     "execution_count": 23,
     "metadata": {},
     "output_type": "execute_result"
    }
   ],
   "source": [
    "(spark.table(\"author_counts_tmp_vw\")                               \n",
    "      .writeStream  \n",
    "      .trigger(processingTime='4 seconds')\n",
    "      .outputMode(\"complete\")\n",
    "      .option(\"checkpointLocation\", \"dbfs:/mnt/demo/author_counts_checkpoint\")\n",
    "      .table(\"author_counts\")\n",
    ")"
   ]
  },
  {
   "cell_type": "code",
   "execution_count": 0,
   "metadata": {
    "application/vnd.databricks.v1+cell": {
     "cellMetadata": {
      "byteLimit": 2048000,
      "implicitDf": true,
      "rowLimit": 10000
     },
     "inputWidgets": {},
     "nuid": "b107a14f-e8c0-4ce3-8ad7-bd740f9e93ec",
     "showTitle": false,
     "title": ""
    }
   },
   "outputs": [
    {
     "output_type": "display_data",
     "data": {
      "text/html": [
       "<style scoped>\n",
       "  .table-result-container {\n",
       "    max-height: 300px;\n",
       "    overflow: auto;\n",
       "  }\n",
       "  table, th, td {\n",
       "    border: 1px solid black;\n",
       "    border-collapse: collapse;\n",
       "  }\n",
       "  th, td {\n",
       "    padding: 5px;\n",
       "  }\n",
       "  th {\n",
       "    text-align: left;\n",
       "  }\n",
       "</style><div class='table-result-container'><table class='table-result'><thead style='background-color: white'><tr><th>author</th><th>total_books</th></tr></thead><tbody><tr><td>Behrouz A. Forouzan</td><td>1</td></tr><tr><td>François Chollet</td><td>1</td></tr><tr><td>Daniel J. Barrett</td><td>1</td></tr><tr><td>Chris Bernhardt</td><td>1</td></tr><tr><td>Luciano Ramalho</td><td>1</td></tr><tr><td>Mark W. Spong</td><td>1</td></tr><tr><td>Andriy Burkov</td><td>1</td></tr><tr><td>Tariq Rashid</td><td>1</td></tr><tr><td>Tracy Kidder</td><td>1</td></tr><tr><td>Swain Scheps</td><td>1</td></tr><tr><td>Rod Stephens</td><td>1</td></tr><tr><td>Bernard Marr</td><td>1</td></tr><tr><td>Bill Venners</td><td>1</td></tr><tr><td>Peter Brass</td><td>1</td></tr><tr><td>Addy Osmani</td><td>1</td></tr></tbody></table></div>"
      ]
     },
     "metadata": {
      "application/vnd.databricks.v1+output": {
       "addedWidgets": {},
       "aggData": [],
       "aggError": "",
       "aggOverflow": false,
       "aggSchema": [],
       "aggSeriesLimitReached": false,
       "aggType": "",
       "arguments": {},
       "columnCustomDisplayInfos": {},
       "data": [
        [
         "Behrouz A. Forouzan",
         1
        ],
        [
         "François Chollet",
         1
        ],
        [
         "Daniel J. Barrett",
         1
        ],
        [
         "Chris Bernhardt",
         1
        ],
        [
         "Luciano Ramalho",
         1
        ],
        [
         "Mark W. Spong",
         1
        ],
        [
         "Andriy Burkov",
         1
        ],
        [
         "Tariq Rashid",
         1
        ],
        [
         "Tracy Kidder",
         1
        ],
        [
         "Swain Scheps",
         1
        ],
        [
         "Rod Stephens",
         1
        ],
        [
         "Bernard Marr",
         1
        ],
        [
         "Bill Venners",
         1
        ],
        [
         "Peter Brass",
         1
        ],
        [
         "Addy Osmani",
         1
        ]
       ],
       "datasetInfos": [],
       "dbfsResultPath": null,
       "isJsonSchema": true,
       "metadata": {
        "dataframeName": "_sqldf",
        "executionCount": 24
       },
       "overflow": false,
       "plotOptions": {
        "customPlotOptions": {},
        "displayType": "table",
        "pivotAggregation": null,
        "pivotColumns": null,
        "xColumns": null,
        "yColumns": null
       },
       "removedWidgets": [],
       "schema": [
        {
         "metadata": "{}",
         "name": "author",
         "type": "\"string\""
        },
        {
         "metadata": "{}",
         "name": "total_books",
         "type": "\"long\""
        }
       ],
       "type": "table"
      }
     },
     "output_type": "display_data"
    }
   ],
   "source": [
    "%sql\n",
    "SELECT *\n",
    "FROM author_counts"
   ]
  },
  {
   "cell_type": "markdown",
   "metadata": {
    "application/vnd.databricks.v1+cell": {
     "cellMetadata": {},
     "inputWidgets": {},
     "nuid": "f70fe3e5-3013-44c9-a869-301162b1b476",
     "showTitle": false,
     "title": ""
    }
   },
   "source": [
    "## Adding New Data"
   ]
  },
  {
   "cell_type": "code",
   "execution_count": 0,
   "metadata": {
    "application/vnd.databricks.v1+cell": {
     "cellMetadata": {
      "byteLimit": 2048000,
      "implicitDf": true,
      "rowLimit": 10000
     },
     "inputWidgets": {},
     "nuid": "d0e6790a-2fc3-47b4-841e-bd82258822e9",
     "showTitle": false,
     "title": ""
    }
   },
   "outputs": [
    {
     "output_type": "display_data",
     "data": {
      "text/html": [
       "<style scoped>\n",
       "  .table-result-container {\n",
       "    max-height: 300px;\n",
       "    overflow: auto;\n",
       "  }\n",
       "  table, th, td {\n",
       "    border: 1px solid black;\n",
       "    border-collapse: collapse;\n",
       "  }\n",
       "  th, td {\n",
       "    padding: 5px;\n",
       "  }\n",
       "  th {\n",
       "    text-align: left;\n",
       "  }\n",
       "</style><div class='table-result-container'><table class='table-result'><thead style='background-color: white'><tr><th>num_affected_rows</th><th>num_inserted_rows</th></tr></thead><tbody><tr><td>3</td><td>3</td></tr></tbody></table></div>"
      ]
     },
     "metadata": {
      "application/vnd.databricks.v1+output": {
       "addedWidgets": {},
       "aggData": [],
       "aggError": "",
       "aggOverflow": false,
       "aggSchema": [],
       "aggSeriesLimitReached": false,
       "aggType": "",
       "arguments": {},
       "columnCustomDisplayInfos": {},
       "data": [
        [
         3,
         3
        ]
       ],
       "datasetInfos": [],
       "dbfsResultPath": null,
       "isJsonSchema": true,
       "metadata": {
        "dataframeName": "_sqldf",
        "executionCount": 25
       },
       "overflow": false,
       "plotOptions": {
        "customPlotOptions": {},
        "displayType": "table",
        "pivotAggregation": null,
        "pivotColumns": null,
        "xColumns": null,
        "yColumns": null
       },
       "removedWidgets": [],
       "schema": [
        {
         "metadata": "{}",
         "name": "num_affected_rows",
         "type": "\"long\""
        },
        {
         "metadata": "{}",
         "name": "num_inserted_rows",
         "type": "\"long\""
        }
       ],
       "type": "table"
      }
     },
     "output_type": "display_data"
    }
   ],
   "source": [
    "%sql\n",
    "INSERT INTO books\n",
    "values (\"B19\", \"Introduction to Modeling and Simulation\", \"Mark W. Spong\", \"Computer Science\", 25),\n",
    "        (\"B20\", \"Robot Modeling and Control\", \"Mark W. Spong\", \"Computer Science\", 30),\n",
    "        (\"B21\", \"Turing's Vision: The Birth of Computer Science\", \"Chris Bernhardt\", \"Computer Science\", 35)"
   ]
  },
  {
   "cell_type": "markdown",
   "metadata": {
    "application/vnd.databricks.v1+cell": {
     "cellMetadata": {},
     "inputWidgets": {},
     "nuid": "40f51258-578b-496a-b611-b3fc6af35453",
     "showTitle": false,
     "title": ""
    }
   },
   "source": [
    "## Streaming in Batch Mode "
   ]
  },
  {
   "cell_type": "code",
   "execution_count": 0,
   "metadata": {
    "application/vnd.databricks.v1+cell": {
     "cellMetadata": {
      "byteLimit": 2048000,
      "implicitDf": true,
      "rowLimit": 10000
     },
     "inputWidgets": {},
     "nuid": "10012c77-043e-49d6-9723-0c83af07df05",
     "showTitle": false,
     "title": ""
    }
   },
   "outputs": [
    {
     "output_type": "display_data",
     "data": {
      "text/html": [
       "<style scoped>\n",
       "  .table-result-container {\n",
       "    max-height: 300px;\n",
       "    overflow: auto;\n",
       "  }\n",
       "  table, th, td {\n",
       "    border: 1px solid black;\n",
       "    border-collapse: collapse;\n",
       "  }\n",
       "  th, td {\n",
       "    padding: 5px;\n",
       "  }\n",
       "  th {\n",
       "    text-align: left;\n",
       "  }\n",
       "</style><div class='table-result-container'><table class='table-result'><thead style='background-color: white'><tr><th>num_affected_rows</th><th>num_inserted_rows</th></tr></thead><tbody><tr><td>3</td><td>3</td></tr></tbody></table></div>"
      ]
     },
     "metadata": {
      "application/vnd.databricks.v1+output": {
       "addedWidgets": {},
       "aggData": [],
       "aggError": "",
       "aggOverflow": false,
       "aggSchema": [],
       "aggSeriesLimitReached": false,
       "aggType": "",
       "arguments": {},
       "columnCustomDisplayInfos": {},
       "data": [
        [
         3,
         3
        ]
       ],
       "datasetInfos": [],
       "dbfsResultPath": null,
       "isJsonSchema": true,
       "metadata": {
        "dataframeName": "_sqldf",
        "executionCount": 26
       },
       "overflow": false,
       "plotOptions": {
        "customPlotOptions": {},
        "displayType": "table",
        "pivotAggregation": null,
        "pivotColumns": null,
        "xColumns": null,
        "yColumns": null
       },
       "removedWidgets": [],
       "schema": [
        {
         "metadata": "{}",
         "name": "num_affected_rows",
         "type": "\"long\""
        },
        {
         "metadata": "{}",
         "name": "num_inserted_rows",
         "type": "\"long\""
        }
       ],
       "type": "table"
      }
     },
     "output_type": "display_data"
    }
   ],
   "source": [
    "%sql\n",
    "INSERT INTO books\n",
    "values (\"B16\", \"Hands-On Deep Learning Algorithms with Python\", \"Sudharsan Ravichandiran\", \"Computer Science\", 25),\n",
    "        (\"B17\", \"Neural Network Methods in Natural Language Processing\", \"Yoav Goldberg\", \"Computer Science\", 30),\n",
    "        (\"B18\", \"Understanding digital signal processing\", \"Richard Lyons\", \"Computer Science\", 35)"
   ]
  },
  {
   "cell_type": "code",
   "execution_count": 0,
   "metadata": {
    "application/vnd.databricks.v1+cell": {
     "cellMetadata": {
      "byteLimit": 2048000,
      "implicitDf": true,
      "rowLimit": 10000
     },
     "inputWidgets": {},
     "nuid": "ed009784-4df0-4953-ac76-994edc9850ad",
     "showTitle": false,
     "title": ""
    }
   },
   "outputs": [
    {
     "output_type": "display_data",
     "data": {
      "text/html": [
       "<style scoped>\n",
       "  .table-result-container {\n",
       "    max-height: 300px;\n",
       "    overflow: auto;\n",
       "  }\n",
       "  table, th, td {\n",
       "    border: 1px solid black;\n",
       "    border-collapse: collapse;\n",
       "  }\n",
       "  th, td {\n",
       "    padding: 5px;\n",
       "  }\n",
       "  th {\n",
       "    text-align: left;\n",
       "  }\n",
       "</style><div class='table-result-container'><table class='table-result'><thead style='background-color: white'><tr><th>author</th><th>total_books</th></tr></thead><tbody><tr><td>Sudharsan Ravichandiran</td><td>1</td></tr><tr><td>Behrouz A. Forouzan</td><td>1</td></tr><tr><td>François Chollet</td><td>1</td></tr><tr><td>Daniel J. Barrett</td><td>1</td></tr><tr><td>Luciano Ramalho</td><td>1</td></tr><tr><td>Chris Bernhardt</td><td>2</td></tr><tr><td>Mark W. Spong</td><td>3</td></tr><tr><td>Richard Lyons</td><td>1</td></tr><tr><td>Andriy Burkov</td><td>1</td></tr><tr><td>Yoav Goldberg</td><td>1</td></tr><tr><td>Tariq Rashid</td><td>1</td></tr><tr><td>Tracy Kidder</td><td>1</td></tr><tr><td>Swain Scheps</td><td>1</td></tr><tr><td>Rod Stephens</td><td>1</td></tr><tr><td>Bernard Marr</td><td>1</td></tr><tr><td>Bill Venners</td><td>1</td></tr><tr><td>Peter Brass</td><td>1</td></tr><tr><td>Addy Osmani</td><td>1</td></tr></tbody></table></div>"
      ]
     },
     "metadata": {
      "application/vnd.databricks.v1+output": {
       "addedWidgets": {},
       "aggData": [],
       "aggError": "",
       "aggOverflow": false,
       "aggSchema": [],
       "aggSeriesLimitReached": false,
       "aggType": "",
       "arguments": {},
       "columnCustomDisplayInfos": {},
       "data": [
        [
         "Sudharsan Ravichandiran",
         1
        ],
        [
         "Behrouz A. Forouzan",
         1
        ],
        [
         "François Chollet",
         1
        ],
        [
         "Daniel J. Barrett",
         1
        ],
        [
         "Luciano Ramalho",
         1
        ],
        [
         "Chris Bernhardt",
         2
        ],
        [
         "Mark W. Spong",
         3
        ],
        [
         "Richard Lyons",
         1
        ],
        [
         "Andriy Burkov",
         1
        ],
        [
         "Yoav Goldberg",
         1
        ],
        [
         "Tariq Rashid",
         1
        ],
        [
         "Tracy Kidder",
         1
        ],
        [
         "Swain Scheps",
         1
        ],
        [
         "Rod Stephens",
         1
        ],
        [
         "Bernard Marr",
         1
        ],
        [
         "Bill Venners",
         1
        ],
        [
         "Peter Brass",
         1
        ],
        [
         "Addy Osmani",
         1
        ]
       ],
       "datasetInfos": [],
       "dbfsResultPath": null,
       "isJsonSchema": true,
       "metadata": {
        "dataframeName": "_sqldf",
        "executionCount": 27
       },
       "overflow": false,
       "plotOptions": {
        "customPlotOptions": {},
        "displayType": "table",
        "pivotAggregation": null,
        "pivotColumns": null,
        "xColumns": null,
        "yColumns": null
       },
       "removedWidgets": [],
       "schema": [
        {
         "metadata": "{}",
         "name": "author",
         "type": "\"string\""
        },
        {
         "metadata": "{}",
         "name": "total_books",
         "type": "\"long\""
        }
       ],
       "type": "table"
      }
     },
     "output_type": "display_data"
    }
   ],
   "source": [
    "%sql\n",
    "SELECT *\n",
    "FROM author_counts"
   ]
  },
  {
   "cell_type": "code",
   "execution_count": 0,
   "metadata": {
    "application/vnd.databricks.v1+cell": {
     "cellMetadata": {
      "byteLimit": 2048000,
      "implicitDf": true,
      "rowLimit": 10000
     },
     "inputWidgets": {},
     "nuid": "b73cfdf6-55d9-4c72-b2c0-08d5d3842c85",
     "showTitle": false,
     "title": ""
    }
   },
   "outputs": [
    {
     "output_type": "display_data",
     "data": {
      "text/html": [
       "<style scoped>\n",
       "  .table-result-container {\n",
       "    max-height: 300px;\n",
       "    overflow: auto;\n",
       "  }\n",
       "  table, th, td {\n",
       "    border: 1px solid black;\n",
       "    border-collapse: collapse;\n",
       "  }\n",
       "  th, td {\n",
       "    padding: 5px;\n",
       "  }\n",
       "  th {\n",
       "    text-align: left;\n",
       "  }\n",
       "</style><div class='table-result-container'><table class='table-result'><thead style='background-color: white'><tr><th>num_affected_rows</th><th>num_inserted_rows</th></tr></thead><tbody><tr><td>2</td><td>2</td></tr></tbody></table></div>"
      ]
     },
     "metadata": {
      "application/vnd.databricks.v1+output": {
       "addedWidgets": {},
       "aggData": [],
       "aggError": "",
       "aggOverflow": false,
       "aggSchema": [],
       "aggSeriesLimitReached": false,
       "aggType": "",
       "arguments": {},
       "columnCustomDisplayInfos": {},
       "data": [
        [
         2,
         2
        ]
       ],
       "datasetInfos": [],
       "dbfsResultPath": null,
       "isJsonSchema": true,
       "metadata": {
        "dataframeName": "_sqldf",
        "executionCount": 29
       },
       "overflow": false,
       "plotOptions": {
        "customPlotOptions": {},
        "displayType": "table",
        "pivotAggregation": null,
        "pivotColumns": null,
        "xColumns": null,
        "yColumns": null
       },
       "removedWidgets": [],
       "schema": [
        {
         "metadata": "{}",
         "name": "num_affected_rows",
         "type": "\"long\""
        },
        {
         "metadata": "{}",
         "name": "num_inserted_rows",
         "type": "\"long\""
        }
       ],
       "type": "table"
      }
     },
     "output_type": "display_data"
    }
   ],
   "source": [
    "%sql\n",
    "INSERT INTO books\n",
    "values (\"B50\", \"Python for Data Science with Biju\", \"Biju Thottathil\", \"Computer Science\", 25),\n",
    "        (\"B51\", \"Neural Network Methods in Natural Language Processing and Machine Learning\", \"Gourav\", \"Computer Science\", 10)\n",
    "        "
   ]
  },
  {
   "cell_type": "code",
   "execution_count": 0,
   "metadata": {
    "application/vnd.databricks.v1+cell": {
     "cellMetadata": {
      "byteLimit": 2048000,
      "rowLimit": 10000
     },
     "inputWidgets": {},
     "nuid": "1be524c2-5929-4494-8274-2daa31150ae6",
     "showTitle": false,
     "title": ""
    }
   },
   "outputs": [],
   "source": [
    "(spark.table(\"author_counts_tmp_vw\")  \n",
    " .writeStream\n",
    " .trigger(availableNow=True)\n",
    " .outputMode(\"complete\")\n",
    " .option(\"checkpointLocation\", \"dbfs:/mnt/demo/author_counts_checkpoint\")\n",
    " .table(\"author_counts\")\n",
    " .awaitTermination()\n",
    ")"
   ]
  },
  {
   "cell_type": "code",
   "execution_count": 0,
   "metadata": {
    "application/vnd.databricks.v1+cell": {
     "cellMetadata": {
      "byteLimit": 2048000,
      "implicitDf": true,
      "rowLimit": 10000
     },
     "inputWidgets": {},
     "nuid": "6be4c85d-032b-4fd5-9589-04c08335cddf",
     "showTitle": false,
     "title": ""
    }
   },
   "outputs": [
    {
     "output_type": "display_data",
     "data": {
      "text/html": [
       "<style scoped>\n",
       "  .table-result-container {\n",
       "    max-height: 300px;\n",
       "    overflow: auto;\n",
       "  }\n",
       "  table, th, td {\n",
       "    border: 1px solid black;\n",
       "    border-collapse: collapse;\n",
       "  }\n",
       "  th, td {\n",
       "    padding: 5px;\n",
       "  }\n",
       "  th {\n",
       "    text-align: left;\n",
       "  }\n",
       "</style><div class='table-result-container'><table class='table-result'><thead style='background-color: white'><tr><th>author</th><th>total_books</th></tr></thead><tbody><tr><td>Sudharsan Ravichandiran</td><td>1</td></tr><tr><td>Behrouz A. Forouzan</td><td>1</td></tr><tr><td>François Chollet</td><td>1</td></tr><tr><td>Daniel J. Barrett</td><td>1</td></tr><tr><td>Luciano Ramalho</td><td>1</td></tr><tr><td>Chris Bernhardt</td><td>2</td></tr><tr><td>Biju Thottathil</td><td>1</td></tr><tr><td>Mark W. Spong</td><td>3</td></tr><tr><td>Richard Lyons</td><td>1</td></tr><tr><td>Andriy Burkov</td><td>1</td></tr><tr><td>Yoav Goldberg</td><td>1</td></tr><tr><td>Tariq Rashid</td><td>1</td></tr><tr><td>Tracy Kidder</td><td>1</td></tr><tr><td>Swain Scheps</td><td>1</td></tr><tr><td>Rod Stephens</td><td>1</td></tr><tr><td>Bernard Marr</td><td>1</td></tr><tr><td>Bill Venners</td><td>1</td></tr><tr><td>Peter Brass</td><td>1</td></tr><tr><td>Addy Osmani</td><td>1</td></tr><tr><td>Gourav</td><td>1</td></tr></tbody></table></div>"
      ]
     },
     "metadata": {
      "application/vnd.databricks.v1+output": {
       "addedWidgets": {},
       "aggData": [],
       "aggError": "",
       "aggOverflow": false,
       "aggSchema": [],
       "aggSeriesLimitReached": false,
       "aggType": "",
       "arguments": {},
       "columnCustomDisplayInfos": {},
       "data": [
        [
         "Sudharsan Ravichandiran",
         1
        ],
        [
         "Behrouz A. Forouzan",
         1
        ],
        [
         "François Chollet",
         1
        ],
        [
         "Daniel J. Barrett",
         1
        ],
        [
         "Luciano Ramalho",
         1
        ],
        [
         "Chris Bernhardt",
         2
        ],
        [
         "Biju Thottathil",
         1
        ],
        [
         "Mark W. Spong",
         3
        ],
        [
         "Richard Lyons",
         1
        ],
        [
         "Andriy Burkov",
         1
        ],
        [
         "Yoav Goldberg",
         1
        ],
        [
         "Tariq Rashid",
         1
        ],
        [
         "Tracy Kidder",
         1
        ],
        [
         "Swain Scheps",
         1
        ],
        [
         "Rod Stephens",
         1
        ],
        [
         "Bernard Marr",
         1
        ],
        [
         "Bill Venners",
         1
        ],
        [
         "Peter Brass",
         1
        ],
        [
         "Addy Osmani",
         1
        ],
        [
         "Gourav",
         1
        ]
       ],
       "datasetInfos": [],
       "dbfsResultPath": null,
       "isJsonSchema": true,
       "metadata": {
        "dataframeName": "_sqldf",
        "executionCount": 33
       },
       "overflow": false,
       "plotOptions": {
        "customPlotOptions": {},
        "displayType": "table",
        "pivotAggregation": null,
        "pivotColumns": null,
        "xColumns": null,
        "yColumns": null
       },
       "removedWidgets": [],
       "schema": [
        {
         "metadata": "{}",
         "name": "author",
         "type": "\"string\""
        },
        {
         "metadata": "{}",
         "name": "total_books",
         "type": "\"long\""
        }
       ],
       "type": "table"
      }
     },
     "output_type": "display_data"
    }
   ],
   "source": [
    "%sql\n",
    "SELECT *\n",
    "FROM author_counts"
   ]
  }
 ],
 "metadata": {
  "application/vnd.databricks.v1+notebook": {
   "dashboards": [],
   "environmentMetadata": null,
   "language": "python",
   "notebookMetadata": {
    "mostRecentlyExecutedCommandWithImplicitDF": {
     "commandId": 1494577348981787,
     "dataframes": [
      "_sqldf"
     ]
    },
    "pythonIndentUnit": 4
   },
   "notebookName": "3.1 - Structured Streaming",
   "widgets": {}
  }
 },
 "nbformat": 4,
 "nbformat_minor": 0
}
